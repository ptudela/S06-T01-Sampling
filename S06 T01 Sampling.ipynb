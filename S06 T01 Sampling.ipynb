{
 "cells": [
  {
   "cell_type": "markdown",
   "id": "32832ba2",
   "metadata": {},
   "source": [
    "# S06 T01: Tasca mètodes de mostreig"
   ]
  },
  {
   "cell_type": "markdown",
   "id": "66deda55",
   "metadata": {},
   "source": [
    "## Nivell 1. Exercici 1\n",
    "### Agafa un conjunt de dades de tema esportiu que t'agradi. \n",
    "### Realitza un mostreig de les dades generant una mostra aleatòria simple i una mostra sistemàtica."
   ]
  },
  {
   "cell_type": "code",
   "execution_count": 67,
   "id": "4085fe56",
   "metadata": {},
   "outputs": [],
   "source": [
    "# Pandas for managing datasets\n",
    "import pandas as pd\n",
    "import numpy as np\n",
    "\n",
    "# Matplotlib for additional customization\n",
    "from matplotlib import pyplot as plt\n",
    "%matplotlib inline\n",
    "\n",
    "# Seaborn for plotting and styling\n",
    "import seaborn as sns\n",
    "import random \n",
    "import imblearn\n",
    "\n",
    "from imblearn.over_sampling import SMOTE\n",
    "from collections import Counter\n",
    "from sklearn.datasets import make_classification"
   ]
  },
  {
   "cell_type": "code",
   "execution_count": 2,
   "id": "55d9c576",
   "metadata": {},
   "outputs": [
    {
     "data": {
      "text/html": [
       "<div>\n",
       "<style scoped>\n",
       "    .dataframe tbody tr th:only-of-type {\n",
       "        vertical-align: middle;\n",
       "    }\n",
       "\n",
       "    .dataframe tbody tr th {\n",
       "        vertical-align: top;\n",
       "    }\n",
       "\n",
       "    .dataframe thead th {\n",
       "        text-align: right;\n",
       "    }\n",
       "</style>\n",
       "<table border=\"1\" class=\"dataframe\">\n",
       "  <thead>\n",
       "    <tr style=\"text-align: right;\">\n",
       "      <th></th>\n",
       "      <th>PlayerId</th>\n",
       "      <th>NameFirst</th>\n",
       "      <th>NameLast</th>\n",
       "      <th>CurrentHandle</th>\n",
       "      <th>CountryCode</th>\n",
       "      <th>TotalUSDPrize</th>\n",
       "      <th>Game</th>\n",
       "      <th>Genre</th>\n",
       "    </tr>\n",
       "  </thead>\n",
       "  <tbody>\n",
       "    <tr>\n",
       "      <th>0</th>\n",
       "      <td>3883</td>\n",
       "      <td>Peter</td>\n",
       "      <td>Rasmussen</td>\n",
       "      <td>dupreeh</td>\n",
       "      <td>dk</td>\n",
       "      <td>1822989.41</td>\n",
       "      <td>Counter-Strike: Global Offensive</td>\n",
       "      <td>First-Person Shooter</td>\n",
       "    </tr>\n",
       "    <tr>\n",
       "      <th>1</th>\n",
       "      <td>3679</td>\n",
       "      <td>Andreas</td>\n",
       "      <td>Højsleth</td>\n",
       "      <td>Xyp9x</td>\n",
       "      <td>dk</td>\n",
       "      <td>1799288.57</td>\n",
       "      <td>Counter-Strike: Global Offensive</td>\n",
       "      <td>First-Person Shooter</td>\n",
       "    </tr>\n",
       "    <tr>\n",
       "      <th>2</th>\n",
       "      <td>3885</td>\n",
       "      <td>Nicolai</td>\n",
       "      <td>Reedtz</td>\n",
       "      <td>dev1ce</td>\n",
       "      <td>dk</td>\n",
       "      <td>1787489.88</td>\n",
       "      <td>Counter-Strike: Global Offensive</td>\n",
       "      <td>First-Person Shooter</td>\n",
       "    </tr>\n",
       "    <tr>\n",
       "      <th>3</th>\n",
       "      <td>3672</td>\n",
       "      <td>Lukas</td>\n",
       "      <td>Rossander</td>\n",
       "      <td>gla1ve</td>\n",
       "      <td>dk</td>\n",
       "      <td>1652350.75</td>\n",
       "      <td>Counter-Strike: Global Offensive</td>\n",
       "      <td>First-Person Shooter</td>\n",
       "    </tr>\n",
       "    <tr>\n",
       "      <th>4</th>\n",
       "      <td>17800</td>\n",
       "      <td>Emil</td>\n",
       "      <td>Reif</td>\n",
       "      <td>Magisk</td>\n",
       "      <td>dk</td>\n",
       "      <td>1416448.64</td>\n",
       "      <td>Counter-Strike: Global Offensive</td>\n",
       "      <td>First-Person Shooter</td>\n",
       "    </tr>\n",
       "  </tbody>\n",
       "</table>\n",
       "</div>"
      ],
      "text/plain": [
       "   PlayerId NameFirst   NameLast CurrentHandle CountryCode  TotalUSDPrize  \\\n",
       "0      3883     Peter  Rasmussen       dupreeh          dk     1822989.41   \n",
       "1      3679   Andreas   Højsleth         Xyp9x          dk     1799288.57   \n",
       "2      3885   Nicolai     Reedtz        dev1ce          dk     1787489.88   \n",
       "3      3672     Lukas  Rossander        gla1ve          dk     1652350.75   \n",
       "4     17800      Emil       Reif        Magisk          dk     1416448.64   \n",
       "\n",
       "                               Game                 Genre  \n",
       "0  Counter-Strike: Global Offensive  First-Person Shooter  \n",
       "1  Counter-Strike: Global Offensive  First-Person Shooter  \n",
       "2  Counter-Strike: Global Offensive  First-Person Shooter  \n",
       "3  Counter-Strike: Global Offensive  First-Person Shooter  \n",
       "4  Counter-Strike: Global Offensive  First-Person Shooter  "
      ]
     },
     "execution_count": 2,
     "metadata": {},
     "output_type": "execute_result"
    }
   ],
   "source": [
    "# the sport's data is about earning of e-game players\n",
    "df = pd.read_csv(\"highest_earning_players.csv\")\n",
    "df.head()"
   ]
  },
  {
   "cell_type": "code",
   "execution_count": 3,
   "id": "851d260f",
   "metadata": {},
   "outputs": [
    {
     "data": {
      "text/plain": [
       "(1000, 8)"
      ]
     },
     "execution_count": 3,
     "metadata": {},
     "output_type": "execute_result"
    }
   ],
   "source": [
    "df.shape"
   ]
  },
  {
   "cell_type": "code",
   "execution_count": 4,
   "id": "2e74e9db",
   "metadata": {},
   "outputs": [
    {
     "data": {
      "text/plain": [
       "PlayerId         0\n",
       "NameFirst        0\n",
       "NameLast         0\n",
       "CurrentHandle    0\n",
       "CountryCode      0\n",
       "TotalUSDPrize    0\n",
       "Game             0\n",
       "Genre            0\n",
       "dtype: int64"
      ]
     },
     "execution_count": 4,
     "metadata": {},
     "output_type": "execute_result"
    }
   ],
   "source": [
    "df.isna().sum()"
   ]
  },
  {
   "cell_type": "code",
   "execution_count": 5,
   "id": "5a84352b",
   "metadata": {},
   "outputs": [
    {
     "data": {
      "text/plain": [
       "array(['dk', 'us', 'br', 'ca', 'se', 'fr', 'sk', 'no', 'ba', 'ru', 'ua',\n",
       "       'pl', 'nl', 'ee', 'fi', 'kz', 'bg', 'cz', 'tr', 'be', 'es', 'de',\n",
       "       'gb', 'cn', 'uz', 'au', 'jo', 'lb', 'pk', 'il', 'ro', 'my', 'sg',\n",
       "       'mo', 'mk', 'ph', 'kr', 'by', 'tw', 'hr', 'hk', 'si', 'at', 'ar',\n",
       "       'ch', 'lv', 'lt', 'jp', 'mx', 'it', 'ie', 'gi', 'cu', 'vn', 'th',\n",
       "       'gr'], dtype=object)"
      ]
     },
     "execution_count": 5,
     "metadata": {},
     "output_type": "execute_result"
    }
   ],
   "source": [
    "df[\"CountryCode\"].unique()"
   ]
  },
  {
   "cell_type": "code",
   "execution_count": 6,
   "id": "ff2e7b79",
   "metadata": {},
   "outputs": [
    {
     "data": {
      "text/plain": [
       "array(['Counter-Strike: Global Offensive', 'Dota 2', 'League of Legends',\n",
       "       'Fortnite', 'Overwatch', 'Starcraft II', 'Heroes of the Storm',\n",
       "       'PUBG', 'Arena of Valor', 'Hearthstone'], dtype=object)"
      ]
     },
     "execution_count": 6,
     "metadata": {},
     "output_type": "execute_result"
    }
   ],
   "source": [
    "df.Game.unique()"
   ]
  },
  {
   "cell_type": "code",
   "execution_count": 7,
   "id": "af8d5d01",
   "metadata": {},
   "outputs": [
    {
     "data": {
      "text/plain": [
       "array(['First-Person Shooter', 'Multiplayer Online Battle Arena',\n",
       "       'Battle Royale', 'Strategy', 'Collectible Card Game'], dtype=object)"
      ]
     },
     "execution_count": 7,
     "metadata": {},
     "output_type": "execute_result"
    }
   ],
   "source": [
    "df.Genre.unique()"
   ]
  },
  {
   "cell_type": "code",
   "execution_count": 8,
   "id": "67f87059",
   "metadata": {},
   "outputs": [
    {
     "data": {
      "text/plain": [
       "Multiplayer Online Battle Arena    400\n",
       "Battle Royale                      200\n",
       "First-Person Shooter               200\n",
       "Collectible Card Game              100\n",
       "Strategy                           100\n",
       "Name: Genre, dtype: int64"
      ]
     },
     "execution_count": 8,
     "metadata": {},
     "output_type": "execute_result"
    }
   ],
   "source": [
    "count = df['Genre'].value_counts() \n",
    "count"
   ]
  },
  {
   "cell_type": "code",
   "execution_count": 9,
   "id": "aafbf767",
   "metadata": {},
   "outputs": [
    {
     "data": {
      "text/plain": [
       "397793.216"
      ]
     },
     "execution_count": 9,
     "metadata": {},
     "output_type": "execute_result"
    }
   ],
   "source": [
    "real_mean = round(df[\"TotalUSDPrize\"].mean(),3)\n",
    "real_mean"
   ]
  },
  {
   "cell_type": "code",
   "execution_count": 10,
   "id": "80d3d2a9",
   "metadata": {},
   "outputs": [
    {
     "data": {
      "text/plain": [
       "100    6952596.58\n",
       "101    6470000.02\n",
       "102    6000411.96\n",
       "103    5554297.41\n",
       "104    5470902.57\n",
       "Name: TotalUSDPrize, dtype: float64"
      ]
     },
     "execution_count": 10,
     "metadata": {},
     "output_type": "execute_result"
    }
   ],
   "source": [
    "df[\"TotalUSDPrize\"].nlargest()"
   ]
  },
  {
   "cell_type": "markdown",
   "id": "835579ee",
   "metadata": {},
   "source": [
    "### Simple random sampling"
   ]
  },
  {
   "cell_type": "code",
   "execution_count": 11,
   "id": "d9b89d2d",
   "metadata": {},
   "outputs": [
    {
     "data": {
      "text/html": [
       "<div>\n",
       "<style scoped>\n",
       "    .dataframe tbody tr th:only-of-type {\n",
       "        vertical-align: middle;\n",
       "    }\n",
       "\n",
       "    .dataframe tbody tr th {\n",
       "        vertical-align: top;\n",
       "    }\n",
       "\n",
       "    .dataframe thead th {\n",
       "        text-align: right;\n",
       "    }\n",
       "</style>\n",
       "<table border=\"1\" class=\"dataframe\">\n",
       "  <thead>\n",
       "    <tr style=\"text-align: right;\">\n",
       "      <th></th>\n",
       "      <th>PlayerId</th>\n",
       "      <th>NameFirst</th>\n",
       "      <th>NameLast</th>\n",
       "      <th>CurrentHandle</th>\n",
       "      <th>CountryCode</th>\n",
       "      <th>TotalUSDPrize</th>\n",
       "      <th>Game</th>\n",
       "      <th>Genre</th>\n",
       "    </tr>\n",
       "  </thead>\n",
       "  <tbody>\n",
       "    <tr>\n",
       "      <th>616</th>\n",
       "      <td>1049</td>\n",
       "      <td>Do Joon</td>\n",
       "      <td>Chae</td>\n",
       "      <td>Noblesse</td>\n",
       "      <td>kr</td>\n",
       "      <td>164811.62</td>\n",
       "      <td>Heroes of the Storm</td>\n",
       "      <td>Multiplayer Online Battle Arena</td>\n",
       "    </tr>\n",
       "    <tr>\n",
       "      <th>561</th>\n",
       "      <td>1080</td>\n",
       "      <td>Hyun Woo</td>\n",
       "      <td>Jang</td>\n",
       "      <td>Creator</td>\n",
       "      <td>kr</td>\n",
       "      <td>141938.84</td>\n",
       "      <td>Starcraft II</td>\n",
       "      <td>Strategy</td>\n",
       "    </tr>\n",
       "    <tr>\n",
       "      <th>525</th>\n",
       "      <td>1158</td>\n",
       "      <td>Ilyes</td>\n",
       "      <td>Satouri</td>\n",
       "      <td>Stephano</td>\n",
       "      <td>fr</td>\n",
       "      <td>304291.61</td>\n",
       "      <td>Starcraft II</td>\n",
       "      <td>Strategy</td>\n",
       "    </tr>\n",
       "    <tr>\n",
       "      <th>541</th>\n",
       "      <td>1225</td>\n",
       "      <td>Grzegorz</td>\n",
       "      <td>Komincz</td>\n",
       "      <td>MaNa</td>\n",
       "      <td>pl</td>\n",
       "      <td>218911.98</td>\n",
       "      <td>Starcraft II</td>\n",
       "      <td>Strategy</td>\n",
       "    </tr>\n",
       "    <tr>\n",
       "      <th>573</th>\n",
       "      <td>1430</td>\n",
       "      <td>Xiang</td>\n",
       "      <td>Hu</td>\n",
       "      <td>MacSed</td>\n",
       "      <td>cn</td>\n",
       "      <td>111540.17</td>\n",
       "      <td>Starcraft II</td>\n",
       "      <td>Strategy</td>\n",
       "    </tr>\n",
       "    <tr>\n",
       "      <th>...</th>\n",
       "      <td>...</td>\n",
       "      <td>...</td>\n",
       "      <td>...</td>\n",
       "      <td>...</td>\n",
       "      <td>...</td>\n",
       "      <td>...</td>\n",
       "      <td>...</td>\n",
       "      <td>...</td>\n",
       "    </tr>\n",
       "    <tr>\n",
       "      <th>836</th>\n",
       "      <td>70309</td>\n",
       "      <td>-</td>\n",
       "      <td>-</td>\n",
       "      <td>久龙</td>\n",
       "      <td>cn</td>\n",
       "      <td>65922.73</td>\n",
       "      <td>Arena of Valor</td>\n",
       "      <td>Multiplayer Online Battle Arena</td>\n",
       "    </tr>\n",
       "    <tr>\n",
       "      <th>837</th>\n",
       "      <td>70310</td>\n",
       "      <td>-</td>\n",
       "      <td>-</td>\n",
       "      <td>北岛</td>\n",
       "      <td>cn</td>\n",
       "      <td>65922.73</td>\n",
       "      <td>Arena of Valor</td>\n",
       "      <td>Multiplayer Online Battle Arena</td>\n",
       "    </tr>\n",
       "    <tr>\n",
       "      <th>897</th>\n",
       "      <td>70343</td>\n",
       "      <td>-</td>\n",
       "      <td>-</td>\n",
       "      <td>Rain</td>\n",
       "      <td>tw</td>\n",
       "      <td>26645.00</td>\n",
       "      <td>Arena of Valor</td>\n",
       "      <td>Multiplayer Online Battle Arena</td>\n",
       "    </tr>\n",
       "    <tr>\n",
       "      <th>767</th>\n",
       "      <td>74025</td>\n",
       "      <td>Do-gyeong</td>\n",
       "      <td>Kim</td>\n",
       "      <td>DoYa</td>\n",
       "      <td>kr</td>\n",
       "      <td>67687.33</td>\n",
       "      <td>PUBG</td>\n",
       "      <td>Battle Royale</td>\n",
       "    </tr>\n",
       "    <tr>\n",
       "      <th>367</th>\n",
       "      <td>80697</td>\n",
       "      <td>Thomas</td>\n",
       "      <td>Davidsen</td>\n",
       "      <td>Th0masHD</td>\n",
       "      <td>dk</td>\n",
       "      <td>188090.00</td>\n",
       "      <td>Fortnite</td>\n",
       "      <td>Battle Royale</td>\n",
       "    </tr>\n",
       "  </tbody>\n",
       "</table>\n",
       "<p>100 rows × 8 columns</p>\n",
       "</div>"
      ],
      "text/plain": [
       "     PlayerId  NameFirst  NameLast CurrentHandle CountryCode  TotalUSDPrize  \\\n",
       "616      1049    Do Joon      Chae      Noblesse          kr      164811.62   \n",
       "561      1080   Hyun Woo      Jang       Creator          kr      141938.84   \n",
       "525      1158      Ilyes   Satouri      Stephano          fr      304291.61   \n",
       "541      1225   Grzegorz   Komincz          MaNa          pl      218911.98   \n",
       "573      1430      Xiang        Hu        MacSed          cn      111540.17   \n",
       "..        ...        ...       ...           ...         ...            ...   \n",
       "836     70309          -         -            久龙          cn       65922.73   \n",
       "837     70310          -         -            北岛          cn       65922.73   \n",
       "897     70343          -         -          Rain          tw       26645.00   \n",
       "767     74025  Do-gyeong       Kim          DoYa          kr       67687.33   \n",
       "367     80697     Thomas  Davidsen      Th0masHD          dk      188090.00   \n",
       "\n",
       "                    Game                            Genre  \n",
       "616  Heroes of the Storm  Multiplayer Online Battle Arena  \n",
       "561         Starcraft II                         Strategy  \n",
       "525         Starcraft II                         Strategy  \n",
       "541         Starcraft II                         Strategy  \n",
       "573         Starcraft II                         Strategy  \n",
       "..                   ...                              ...  \n",
       "836       Arena of Valor  Multiplayer Online Battle Arena  \n",
       "837       Arena of Valor  Multiplayer Online Battle Arena  \n",
       "897       Arena of Valor  Multiplayer Online Battle Arena  \n",
       "767                 PUBG                    Battle Royale  \n",
       "367             Fortnite                    Battle Royale  \n",
       "\n",
       "[100 rows x 8 columns]"
      ]
     },
     "execution_count": 11,
     "metadata": {},
     "output_type": "execute_result"
    }
   ],
   "source": [
    "#simple sampling (random)\n",
    "simple_random_sample = df.sample(n=100).sort_values(by=\"PlayerId\")\n",
    "simple_random_sample"
   ]
  },
  {
   "cell_type": "code",
   "execution_count": 12,
   "id": "7c9e6509",
   "metadata": {},
   "outputs": [
    {
     "data": {
      "text/plain": [
       "332280.322"
      ]
     },
     "execution_count": 12,
     "metadata": {},
     "output_type": "execute_result"
    }
   ],
   "source": [
    "#simple random sample mean\n",
    "simple_random_mean=round(simple_random_sample[\"TotalUSDPrize\"].mean(),3)\n",
    "simple_random_mean"
   ]
  },
  {
   "cell_type": "code",
   "execution_count": 13,
   "id": "4ea36ecc",
   "metadata": {},
   "outputs": [
    {
     "data": {
      "text/plain": [
       "<matplotlib.legend.Legend at 0x24857f3d220>"
      ]
     },
     "execution_count": 13,
     "metadata": {},
     "output_type": "execute_result"
    },
    {
     "data": {
      "image/png": "[encoded data removed]",
      "text/plain": [
       "<Figure size 864x504 with 2 Axes>"
      ]
     },
     "metadata": {
      "needs_background": "light"
     },
     "output_type": "display_data"
    }
   ],
   "source": [
    "fig,ax = plt.subplots(ncols=2,figsize=(12,7))\n",
    "sns.histplot(simple_random_sample,kde=True,bins=50,ax=ax[0])\n",
    "#sns.kdeplot(salarios,alpha=0.5)\n",
    "ax[0].legend(['sample'])\n",
    "sns.histplot(df['TotalUSDPrize'],kde=True,bins=50,ax=ax[1])\n",
    "plt.legend(['whole population'])"
   ]
  },
  {
   "cell_type": "markdown",
   "id": "eff5735e",
   "metadata": {},
   "source": [
    "### Systematic sample"
   ]
  },
  {
   "cell_type": "code",
   "execution_count": 14,
   "id": "9199ec2e",
   "metadata": {},
   "outputs": [],
   "source": [
    "# systematic sample\n",
    "# hacemos una función y ponemos un intervalo \n",
    "\n",
    "def systematic_sampling(df, step):\n",
    "    \n",
    "    indexes=np.arange(0, len(df),step=step) \n",
    "    systematic_sample=df.iloc[indexes]\n",
    "    return systematic_sample\n"
   ]
  },
  {
   "cell_type": "code",
   "execution_count": 15,
   "id": "96ca7d97",
   "metadata": {},
   "outputs": [],
   "source": [
    "# The seleccion will be every 5 \n",
    "# Ask for Systematic sample\n",
    "systematic_sample = systematic_sampling(df,5)"
   ]
  },
  {
   "cell_type": "code",
   "execution_count": 68,
   "id": "63091391",
   "metadata": {},
   "outputs": [
    {
     "data": {
      "text/plain": [
       "431946.415"
      ]
     },
     "execution_count": 68,
     "metadata": {},
     "output_type": "execute_result"
    }
   ],
   "source": [
    "systematic_sample_mean=round(systematic_sample[\"TotalUSDPrize\"].mean(),3)\n",
    "systematic_sample_mean"
   ]
  },
  {
   "cell_type": "code",
   "execution_count": 17,
   "id": "efb2f6bb",
   "metadata": {},
   "outputs": [
    {
     "data": {
      "text/plain": [
       "<seaborn.axisgrid.FacetGrid at 0x24853f404f0>"
      ]
     },
     "execution_count": 17,
     "metadata": {},
     "output_type": "execute_result"
    },
    {
     "data": {
      "image/png": "[encoded data removed]",
      "text/plain": [
       "<Figure size 464.625x360 with 1 Axes>"
      ]
     },
     "metadata": {
      "needs_background": "light"
     },
     "output_type": "display_data"
    }
   ],
   "source": [
    "sns.displot(systematic_sample,kde=True,bins=50)"
   ]
  },
  {
   "cell_type": "markdown",
   "id": "ea2af906",
   "metadata": {},
   "source": [
    "## Nivell 2. Exercici 2\n",
    "### Continua amb el conjunt de dades de tema esportiu i genera una mostra estratificada i una mostra utilitzant SMOTE (Synthetic Minority Oversampling Technique)."
   ]
  },
  {
   "cell_type": "markdown",
   "id": "0b877f01",
   "metadata": {},
   "source": [
    "### Stratified Sample"
   ]
  },
  {
   "cell_type": "code",
   "execution_count": 18,
   "id": "ace29e12",
   "metadata": {},
   "outputs": [
    {
     "data": {
      "text/html": [
       "<div>\n",
       "<style scoped>\n",
       "    .dataframe tbody tr th:only-of-type {\n",
       "        vertical-align: middle;\n",
       "    }\n",
       "\n",
       "    .dataframe tbody tr th {\n",
       "        vertical-align: top;\n",
       "    }\n",
       "\n",
       "    .dataframe thead th {\n",
       "        text-align: right;\n",
       "    }\n",
       "</style>\n",
       "<table border=\"1\" class=\"dataframe\">\n",
       "  <thead>\n",
       "    <tr style=\"text-align: right;\">\n",
       "      <th></th>\n",
       "      <th>PlayerId</th>\n",
       "      <th>NameFirst</th>\n",
       "      <th>NameLast</th>\n",
       "      <th>CurrentHandle</th>\n",
       "      <th>CountryCode</th>\n",
       "      <th>TotalUSDPrize</th>\n",
       "      <th>Game</th>\n",
       "      <th>Genre</th>\n",
       "    </tr>\n",
       "  </thead>\n",
       "  <tbody>\n",
       "    <tr>\n",
       "      <th>0</th>\n",
       "      <td>3883</td>\n",
       "      <td>Peter</td>\n",
       "      <td>Rasmussen</td>\n",
       "      <td>dupreeh</td>\n",
       "      <td>dk</td>\n",
       "      <td>1822989.41</td>\n",
       "      <td>Counter-Strike: Global Offensive</td>\n",
       "      <td>First-Person Shooter</td>\n",
       "    </tr>\n",
       "    <tr>\n",
       "      <th>1</th>\n",
       "      <td>3679</td>\n",
       "      <td>Andreas</td>\n",
       "      <td>Højsleth</td>\n",
       "      <td>Xyp9x</td>\n",
       "      <td>dk</td>\n",
       "      <td>1799288.57</td>\n",
       "      <td>Counter-Strike: Global Offensive</td>\n",
       "      <td>First-Person Shooter</td>\n",
       "    </tr>\n",
       "    <tr>\n",
       "      <th>2</th>\n",
       "      <td>3885</td>\n",
       "      <td>Nicolai</td>\n",
       "      <td>Reedtz</td>\n",
       "      <td>dev1ce</td>\n",
       "      <td>dk</td>\n",
       "      <td>1787489.88</td>\n",
       "      <td>Counter-Strike: Global Offensive</td>\n",
       "      <td>First-Person Shooter</td>\n",
       "    </tr>\n",
       "    <tr>\n",
       "      <th>3</th>\n",
       "      <td>3672</td>\n",
       "      <td>Lukas</td>\n",
       "      <td>Rossander</td>\n",
       "      <td>gla1ve</td>\n",
       "      <td>dk</td>\n",
       "      <td>1652350.75</td>\n",
       "      <td>Counter-Strike: Global Offensive</td>\n",
       "      <td>First-Person Shooter</td>\n",
       "    </tr>\n",
       "    <tr>\n",
       "      <th>4</th>\n",
       "      <td>17800</td>\n",
       "      <td>Emil</td>\n",
       "      <td>Reif</td>\n",
       "      <td>Magisk</td>\n",
       "      <td>dk</td>\n",
       "      <td>1416448.64</td>\n",
       "      <td>Counter-Strike: Global Offensive</td>\n",
       "      <td>First-Person Shooter</td>\n",
       "    </tr>\n",
       "  </tbody>\n",
       "</table>\n",
       "</div>"
      ],
      "text/plain": [
       "   PlayerId NameFirst   NameLast CurrentHandle CountryCode  TotalUSDPrize  \\\n",
       "0      3883     Peter  Rasmussen       dupreeh          dk     1822989.41   \n",
       "1      3679   Andreas   Højsleth         Xyp9x          dk     1799288.57   \n",
       "2      3885   Nicolai     Reedtz        dev1ce          dk     1787489.88   \n",
       "3      3672     Lukas  Rossander        gla1ve          dk     1652350.75   \n",
       "4     17800      Emil       Reif        Magisk          dk     1416448.64   \n",
       "\n",
       "                               Game                 Genre  \n",
       "0  Counter-Strike: Global Offensive  First-Person Shooter  \n",
       "1  Counter-Strike: Global Offensive  First-Person Shooter  \n",
       "2  Counter-Strike: Global Offensive  First-Person Shooter  \n",
       "3  Counter-Strike: Global Offensive  First-Person Shooter  \n",
       "4  Counter-Strike: Global Offensive  First-Person Shooter  "
      ]
     },
     "execution_count": 18,
     "metadata": {},
     "output_type": "execute_result"
    }
   ],
   "source": [
    "df.head()"
   ]
  },
  {
   "cell_type": "code",
   "execution_count": 19,
   "id": "8b19f1c3",
   "metadata": {},
   "outputs": [],
   "source": [
    "#stratified random sampling\n",
    "#randomly selecting 20 players from each genre to be included in the sample:\n",
    "\n",
    "stratified_sample = df.groupby('Genre', group_keys = False ).apply( lambda x: x.sample (20))\n"
   ]
  },
  {
   "cell_type": "code",
   "execution_count": 20,
   "id": "2c0123da",
   "metadata": {},
   "outputs": [
    {
     "data": {
      "text/plain": [
       "349634.915"
      ]
     },
     "execution_count": 20,
     "metadata": {},
     "output_type": "execute_result"
    }
   ],
   "source": [
    "stratified_sample_mean = round(stratified_sample[\"TotalUSDPrize\"].mean(),3)\n",
    "stratified_sample_mean"
   ]
  },
  {
   "cell_type": "code",
   "execution_count": 21,
   "id": "6d715152",
   "metadata": {},
   "outputs": [
    {
     "data": {
      "text/plain": [
       "<seaborn.axisgrid.FacetGrid at 0x2485808efd0>"
      ]
     },
     "execution_count": 21,
     "metadata": {},
     "output_type": "execute_result"
    },
    {
     "data": {
      "image/png": "[encoded data removed]",
      "text/plain": [
       "<Figure size 464.625x360 with 1 Axes>"
      ]
     },
     "metadata": {
      "needs_background": "light"
     },
     "output_type": "display_data"
    }
   ],
   "source": [
    "sns.displot(stratified_sample,kde=True,bins=50)"
   ]
  },
  {
   "cell_type": "code",
   "execution_count": 22,
   "id": "a9ef035c",
   "metadata": {},
   "outputs": [
    {
     "data": {
      "text/plain": [
       "Collectible Card Game              20\n",
       "Battle Royale                      20\n",
       "First-Person Shooter               20\n",
       "Multiplayer Online Battle Arena    20\n",
       "Strategy                           20\n",
       "Name: Genre, dtype: int64"
      ]
     },
     "execution_count": 22,
     "metadata": {},
     "output_type": "execute_result"
    }
   ],
   "source": [
    "# the sample selects 20 rows for every genre\n",
    "count = stratified_sample['Genre'].value_counts() \n",
    "count"
   ]
  },
  {
   "cell_type": "code",
   "execution_count": 23,
   "id": "b21f5f12",
   "metadata": {},
   "outputs": [],
   "source": [
    "# stratified random sampling taking into account the size of the groups.\n",
    "# The column Genre has different sizes: \n",
    "# Multiplayer Online Battle Arena (400), First-Person Shooter(200), Battle Royale (200), \n",
    "# Collectible Card Game (100), Strategy (100)\n",
    "\n",
    "#define total sample size desired\n",
    "N = 100\n",
    "\n",
    "#perform stratified random sampling\n",
    "\n",
    "stratified_sample2 = df.groupby('Genre', group_keys=False).apply(lambda x: x.sample(int(np.rint(N*len(x)/len(df))))).sample(frac=1).reset_index(drop=True)\n"
   ]
  },
  {
   "cell_type": "code",
   "execution_count": 25,
   "id": "16ceb3b9",
   "metadata": {},
   "outputs": [
    {
     "data": {
      "text/plain": [
       "349634.915"
      ]
     },
     "execution_count": 25,
     "metadata": {},
     "output_type": "execute_result"
    }
   ],
   "source": [
    "stratified_sample2_mean = round(stratified_sample[\"TotalUSDPrize\"].mean(),3)\n",
    "stratified_sample2_mean\n",
    "# the mean is exactly the same than in the stratified_sample (above), but the distribution is different"
   ]
  },
  {
   "cell_type": "code",
   "execution_count": 27,
   "id": "e6e8ab79",
   "metadata": {},
   "outputs": [
    {
     "data": {
      "text/plain": [
       "Multiplayer Online Battle Arena    40\n",
       "Battle Royale                      20\n",
       "First-Person Shooter               20\n",
       "Collectible Card Game              10\n",
       "Strategy                           10\n",
       "Name: Genre, dtype: int64"
      ]
     },
     "execution_count": 27,
     "metadata": {},
     "output_type": "execute_result"
    }
   ],
   "source": [
    "# Here, the distribution is taking into account the weight of every genre in the sample\n",
    "count = stratified_sample2['Genre'].value_counts() \n",
    "count"
   ]
  },
  {
   "cell_type": "code",
   "execution_count": 28,
   "id": "f6d3c788",
   "metadata": {},
   "outputs": [
    {
     "data": {
      "text/plain": [
       "<seaborn.axisgrid.FacetGrid at 0x24858561310>"
      ]
     },
     "execution_count": 28,
     "metadata": {},
     "output_type": "execute_result"
    },
    {
     "data": {
      "image/png": "[encoded data removed]",
      "text/plain": [
       "<Figure size 464.625x360 with 1 Axes>"
      ]
     },
     "metadata": {
      "needs_background": "light"
     },
     "output_type": "display_data"
    }
   ],
   "source": [
    "sns.displot(stratified_sample2,kde=True,bins=50)"
   ]
  },
  {
   "cell_type": "markdown",
   "id": "2f1850b8",
   "metadata": {},
   "source": [
    "### SMOTE (Synthetic Minority Oversampling Technique)"
   ]
  },
  {
   "cell_type": "code",
   "execution_count": 29,
   "id": "9d30c2f9",
   "metadata": {},
   "outputs": [
    {
     "data": {
      "text/html": [
       "<div>\n",
       "<style scoped>\n",
       "    .dataframe tbody tr th:only-of-type {\n",
       "        vertical-align: middle;\n",
       "    }\n",
       "\n",
       "    .dataframe tbody tr th {\n",
       "        vertical-align: top;\n",
       "    }\n",
       "\n",
       "    .dataframe thead th {\n",
       "        text-align: right;\n",
       "    }\n",
       "</style>\n",
       "<table border=\"1\" class=\"dataframe\">\n",
       "  <thead>\n",
       "    <tr style=\"text-align: right;\">\n",
       "      <th></th>\n",
       "      <th>PlayerId</th>\n",
       "      <th>NameFirst</th>\n",
       "      <th>NameLast</th>\n",
       "      <th>CurrentHandle</th>\n",
       "      <th>CountryCode</th>\n",
       "      <th>TotalUSDPrize</th>\n",
       "      <th>Game</th>\n",
       "      <th>Genre</th>\n",
       "    </tr>\n",
       "  </thead>\n",
       "  <tbody>\n",
       "    <tr>\n",
       "      <th>0</th>\n",
       "      <td>3883</td>\n",
       "      <td>Peter</td>\n",
       "      <td>Rasmussen</td>\n",
       "      <td>dupreeh</td>\n",
       "      <td>dk</td>\n",
       "      <td>1822989.41</td>\n",
       "      <td>Counter-Strike: Global Offensive</td>\n",
       "      <td>First-Person Shooter</td>\n",
       "    </tr>\n",
       "    <tr>\n",
       "      <th>1</th>\n",
       "      <td>3679</td>\n",
       "      <td>Andreas</td>\n",
       "      <td>Højsleth</td>\n",
       "      <td>Xyp9x</td>\n",
       "      <td>dk</td>\n",
       "      <td>1799288.57</td>\n",
       "      <td>Counter-Strike: Global Offensive</td>\n",
       "      <td>First-Person Shooter</td>\n",
       "    </tr>\n",
       "    <tr>\n",
       "      <th>2</th>\n",
       "      <td>3885</td>\n",
       "      <td>Nicolai</td>\n",
       "      <td>Reedtz</td>\n",
       "      <td>dev1ce</td>\n",
       "      <td>dk</td>\n",
       "      <td>1787489.88</td>\n",
       "      <td>Counter-Strike: Global Offensive</td>\n",
       "      <td>First-Person Shooter</td>\n",
       "    </tr>\n",
       "    <tr>\n",
       "      <th>3</th>\n",
       "      <td>3672</td>\n",
       "      <td>Lukas</td>\n",
       "      <td>Rossander</td>\n",
       "      <td>gla1ve</td>\n",
       "      <td>dk</td>\n",
       "      <td>1652350.75</td>\n",
       "      <td>Counter-Strike: Global Offensive</td>\n",
       "      <td>First-Person Shooter</td>\n",
       "    </tr>\n",
       "    <tr>\n",
       "      <th>4</th>\n",
       "      <td>17800</td>\n",
       "      <td>Emil</td>\n",
       "      <td>Reif</td>\n",
       "      <td>Magisk</td>\n",
       "      <td>dk</td>\n",
       "      <td>1416448.64</td>\n",
       "      <td>Counter-Strike: Global Offensive</td>\n",
       "      <td>First-Person Shooter</td>\n",
       "    </tr>\n",
       "  </tbody>\n",
       "</table>\n",
       "</div>"
      ],
      "text/plain": [
       "   PlayerId NameFirst   NameLast CurrentHandle CountryCode  TotalUSDPrize  \\\n",
       "0      3883     Peter  Rasmussen       dupreeh          dk     1822989.41   \n",
       "1      3679   Andreas   Højsleth         Xyp9x          dk     1799288.57   \n",
       "2      3885   Nicolai     Reedtz        dev1ce          dk     1787489.88   \n",
       "3      3672     Lukas  Rossander        gla1ve          dk     1652350.75   \n",
       "4     17800      Emil       Reif        Magisk          dk     1416448.64   \n",
       "\n",
       "                               Game                 Genre  \n",
       "0  Counter-Strike: Global Offensive  First-Person Shooter  \n",
       "1  Counter-Strike: Global Offensive  First-Person Shooter  \n",
       "2  Counter-Strike: Global Offensive  First-Person Shooter  \n",
       "3  Counter-Strike: Global Offensive  First-Person Shooter  \n",
       "4  Counter-Strike: Global Offensive  First-Person Shooter  "
      ]
     },
     "execution_count": 29,
     "metadata": {},
     "output_type": "execute_result"
    }
   ],
   "source": [
    "df.head()"
   ]
  },
  {
   "cell_type": "code",
   "execution_count": 30,
   "id": "08f937c9",
   "metadata": {},
   "outputs": [
    {
     "data": {
      "text/plain": [
       "Multiplayer Online Battle Arena    400\n",
       "Battle Royale                      200\n",
       "First-Person Shooter               200\n",
       "Collectible Card Game              100\n",
       "Strategy                           100\n",
       "Name: Genre, dtype: int64"
      ]
     },
     "execution_count": 30,
     "metadata": {},
     "output_type": "execute_result"
    }
   ],
   "source": [
    "total = int(len(df))\n",
    "count = df.Genre.value_counts() \n",
    "count"
   ]
  },
  {
   "cell_type": "code",
   "execution_count": 85,
   "id": "2a7dc232",
   "metadata": {},
   "outputs": [
    {
     "data": {
      "text/html": [
       "<div>\n",
       "<style scoped>\n",
       "    .dataframe tbody tr th:only-of-type {\n",
       "        vertical-align: middle;\n",
       "    }\n",
       "\n",
       "    .dataframe tbody tr th {\n",
       "        vertical-align: top;\n",
       "    }\n",
       "\n",
       "    .dataframe thead th {\n",
       "        text-align: right;\n",
       "    }\n",
       "</style>\n",
       "<table border=\"1\" class=\"dataframe\">\n",
       "  <thead>\n",
       "    <tr style=\"text-align: right;\">\n",
       "      <th></th>\n",
       "      <th>PlayerId</th>\n",
       "      <th>NameFirst</th>\n",
       "      <th>NameLast</th>\n",
       "      <th>CurrentHandle</th>\n",
       "      <th>CountryCode</th>\n",
       "      <th>TotalUSDPrize</th>\n",
       "      <th>Game</th>\n",
       "      <th>Genre</th>\n",
       "      <th>values</th>\n",
       "    </tr>\n",
       "  </thead>\n",
       "  <tbody>\n",
       "    <tr>\n",
       "      <th>0</th>\n",
       "      <td>3883</td>\n",
       "      <td>Peter</td>\n",
       "      <td>Rasmussen</td>\n",
       "      <td>dupreeh</td>\n",
       "      <td>dk</td>\n",
       "      <td>1822989.41</td>\n",
       "      <td>Counter-Strike: Global Offensive</td>\n",
       "      <td>First-Person Shooter</td>\n",
       "      <td>0</td>\n",
       "    </tr>\n",
       "    <tr>\n",
       "      <th>1</th>\n",
       "      <td>3679</td>\n",
       "      <td>Andreas</td>\n",
       "      <td>Højsleth</td>\n",
       "      <td>Xyp9x</td>\n",
       "      <td>dk</td>\n",
       "      <td>1799288.57</td>\n",
       "      <td>Counter-Strike: Global Offensive</td>\n",
       "      <td>First-Person Shooter</td>\n",
       "      <td>0</td>\n",
       "    </tr>\n",
       "    <tr>\n",
       "      <th>2</th>\n",
       "      <td>3885</td>\n",
       "      <td>Nicolai</td>\n",
       "      <td>Reedtz</td>\n",
       "      <td>dev1ce</td>\n",
       "      <td>dk</td>\n",
       "      <td>1787489.88</td>\n",
       "      <td>Counter-Strike: Global Offensive</td>\n",
       "      <td>First-Person Shooter</td>\n",
       "      <td>0</td>\n",
       "    </tr>\n",
       "    <tr>\n",
       "      <th>3</th>\n",
       "      <td>3672</td>\n",
       "      <td>Lukas</td>\n",
       "      <td>Rossander</td>\n",
       "      <td>gla1ve</td>\n",
       "      <td>dk</td>\n",
       "      <td>1652350.75</td>\n",
       "      <td>Counter-Strike: Global Offensive</td>\n",
       "      <td>First-Person Shooter</td>\n",
       "      <td>0</td>\n",
       "    </tr>\n",
       "    <tr>\n",
       "      <th>4</th>\n",
       "      <td>17800</td>\n",
       "      <td>Emil</td>\n",
       "      <td>Reif</td>\n",
       "      <td>Magisk</td>\n",
       "      <td>dk</td>\n",
       "      <td>1416448.64</td>\n",
       "      <td>Counter-Strike: Global Offensive</td>\n",
       "      <td>First-Person Shooter</td>\n",
       "      <td>0</td>\n",
       "    </tr>\n",
       "    <tr>\n",
       "      <th>...</th>\n",
       "      <td>...</td>\n",
       "      <td>...</td>\n",
       "      <td>...</td>\n",
       "      <td>...</td>\n",
       "      <td>...</td>\n",
       "      <td>...</td>\n",
       "      <td>...</td>\n",
       "      <td>...</td>\n",
       "      <td>...</td>\n",
       "    </tr>\n",
       "    <tr>\n",
       "      <th>995</th>\n",
       "      <td>7400</td>\n",
       "      <td>Janne</td>\n",
       "      <td>Mikkonen</td>\n",
       "      <td>Savjz</td>\n",
       "      <td>fi</td>\n",
       "      <td>50734.44</td>\n",
       "      <td>Hearthstone</td>\n",
       "      <td>Collectible Card Game</td>\n",
       "      <td>0</td>\n",
       "    </tr>\n",
       "    <tr>\n",
       "      <th>996</th>\n",
       "      <td>3255</td>\n",
       "      <td>Drew</td>\n",
       "      <td>Biessener</td>\n",
       "      <td>Tidesoftime</td>\n",
       "      <td>us</td>\n",
       "      <td>50449.60</td>\n",
       "      <td>Hearthstone</td>\n",
       "      <td>Collectible Card Game</td>\n",
       "      <td>0</td>\n",
       "    </tr>\n",
       "    <tr>\n",
       "      <th>997</th>\n",
       "      <td>49164</td>\n",
       "      <td>Simone</td>\n",
       "      <td>Liguori</td>\n",
       "      <td>Leta</td>\n",
       "      <td>it</td>\n",
       "      <td>49300.00</td>\n",
       "      <td>Hearthstone</td>\n",
       "      <td>Collectible Card Game</td>\n",
       "      <td>0</td>\n",
       "    </tr>\n",
       "    <tr>\n",
       "      <th>998</th>\n",
       "      <td>43043</td>\n",
       "      <td>Mike</td>\n",
       "      <td>Eichner</td>\n",
       "      <td>Ike</td>\n",
       "      <td>us</td>\n",
       "      <td>48550.00</td>\n",
       "      <td>Hearthstone</td>\n",
       "      <td>Collectible Card Game</td>\n",
       "      <td>0</td>\n",
       "    </tr>\n",
       "    <tr>\n",
       "      <th>999</th>\n",
       "      <td>1100</td>\n",
       "      <td>Jeffrey</td>\n",
       "      <td>Brusi</td>\n",
       "      <td>SjoW</td>\n",
       "      <td>se</td>\n",
       "      <td>47973.61</td>\n",
       "      <td>Hearthstone</td>\n",
       "      <td>Collectible Card Game</td>\n",
       "      <td>0</td>\n",
       "    </tr>\n",
       "  </tbody>\n",
       "</table>\n",
       "<p>1000 rows × 9 columns</p>\n",
       "</div>"
      ],
      "text/plain": [
       "     PlayerId NameFirst   NameLast CurrentHandle CountryCode  TotalUSDPrize  \\\n",
       "0        3883     Peter  Rasmussen       dupreeh          dk     1822989.41   \n",
       "1        3679   Andreas   Højsleth         Xyp9x          dk     1799288.57   \n",
       "2        3885   Nicolai     Reedtz        dev1ce          dk     1787489.88   \n",
       "3        3672     Lukas  Rossander        gla1ve          dk     1652350.75   \n",
       "4       17800      Emil       Reif        Magisk          dk     1416448.64   \n",
       "..        ...       ...        ...           ...         ...            ...   \n",
       "995      7400     Janne   Mikkonen         Savjz          fi       50734.44   \n",
       "996      3255      Drew  Biessener   Tidesoftime          us       50449.60   \n",
       "997     49164    Simone    Liguori          Leta          it       49300.00   \n",
       "998     43043      Mike    Eichner           Ike          us       48550.00   \n",
       "999      1100   Jeffrey      Brusi          SjoW          se       47973.61   \n",
       "\n",
       "                                 Game                  Genre  values  \n",
       "0    Counter-Strike: Global Offensive   First-Person Shooter       0  \n",
       "1    Counter-Strike: Global Offensive   First-Person Shooter       0  \n",
       "2    Counter-Strike: Global Offensive   First-Person Shooter       0  \n",
       "3    Counter-Strike: Global Offensive   First-Person Shooter       0  \n",
       "4    Counter-Strike: Global Offensive   First-Person Shooter       0  \n",
       "..                                ...                    ...     ...  \n",
       "995                       Hearthstone  Collectible Card Game       0  \n",
       "996                       Hearthstone  Collectible Card Game       0  \n",
       "997                       Hearthstone  Collectible Card Game       0  \n",
       "998                       Hearthstone  Collectible Card Game       0  \n",
       "999                       Hearthstone  Collectible Card Game       0  \n",
       "\n",
       "[1000 rows x 9 columns]"
      ]
     },
     "execution_count": 85,
     "metadata": {},
     "output_type": "execute_result"
    }
   ],
   "source": [
    "# Remap the column Genre into integers (0 - 1) – these columns have only two possible values\n",
    "# This is the only colum in the DF that can be changed for this purpose\n",
    "# I choose the Multiplayer Online Battle Arena genre for comparison with the rest of genres\n",
    "\n",
    "values = {\"Multiplayer Online Battle Arena\":1,\n",
    "         \"First-Person Shooter\": 0,\n",
    "         \"Battle Royale\" : 0,\n",
    "         \"Collectible Card Game\": 0,\n",
    "         \"Strategy\": 0}\n",
    "df[\"values\"] = df[\"Genre\"].apply(lambda x: values[x])\n",
    "df"
   ]
  },
  {
   "cell_type": "code",
   "execution_count": 86,
   "id": "15653788",
   "metadata": {},
   "outputs": [
    {
     "data": {
      "text/plain": [
       "0    600\n",
       "1    400\n",
       "Name: values, dtype: int64"
      ]
     },
     "execution_count": 86,
     "metadata": {},
     "output_type": "execute_result"
    }
   ],
   "source": [
    "# the column \"values\" has only 2 values (0-1) just for SMOTE purposes\n",
    "# the comparison is between the genre \"Multiplayer Online Battle Arena\" and the rest of genres\n",
    "count = df['values'].value_counts() \n",
    "count"
   ]
  },
  {
   "cell_type": "code",
   "execution_count": 87,
   "id": "47c0f288",
   "metadata": {},
   "outputs": [
    {
     "data": {
      "text/html": [
       "<div>\n",
       "<style scoped>\n",
       "    .dataframe tbody tr th:only-of-type {\n",
       "        vertical-align: middle;\n",
       "    }\n",
       "\n",
       "    .dataframe tbody tr th {\n",
       "        vertical-align: top;\n",
       "    }\n",
       "\n",
       "    .dataframe thead th {\n",
       "        text-align: right;\n",
       "    }\n",
       "</style>\n",
       "<table border=\"1\" class=\"dataframe\">\n",
       "  <thead>\n",
       "    <tr style=\"text-align: right;\">\n",
       "      <th></th>\n",
       "      <th>TotalUSDPrize</th>\n",
       "      <th>values</th>\n",
       "    </tr>\n",
       "  </thead>\n",
       "  <tbody>\n",
       "    <tr>\n",
       "      <th>0</th>\n",
       "      <td>1822989.41</td>\n",
       "      <td>0</td>\n",
       "    </tr>\n",
       "    <tr>\n",
       "      <th>1</th>\n",
       "      <td>1799288.57</td>\n",
       "      <td>0</td>\n",
       "    </tr>\n",
       "    <tr>\n",
       "      <th>2</th>\n",
       "      <td>1787489.88</td>\n",
       "      <td>0</td>\n",
       "    </tr>\n",
       "    <tr>\n",
       "      <th>3</th>\n",
       "      <td>1652350.75</td>\n",
       "      <td>0</td>\n",
       "    </tr>\n",
       "    <tr>\n",
       "      <th>4</th>\n",
       "      <td>1416448.64</td>\n",
       "      <td>0</td>\n",
       "    </tr>\n",
       "    <tr>\n",
       "      <th>...</th>\n",
       "      <td>...</td>\n",
       "      <td>...</td>\n",
       "    </tr>\n",
       "    <tr>\n",
       "      <th>995</th>\n",
       "      <td>50734.44</td>\n",
       "      <td>0</td>\n",
       "    </tr>\n",
       "    <tr>\n",
       "      <th>996</th>\n",
       "      <td>50449.60</td>\n",
       "      <td>0</td>\n",
       "    </tr>\n",
       "    <tr>\n",
       "      <th>997</th>\n",
       "      <td>49300.00</td>\n",
       "      <td>0</td>\n",
       "    </tr>\n",
       "    <tr>\n",
       "      <th>998</th>\n",
       "      <td>48550.00</td>\n",
       "      <td>0</td>\n",
       "    </tr>\n",
       "    <tr>\n",
       "      <th>999</th>\n",
       "      <td>47973.61</td>\n",
       "      <td>0</td>\n",
       "    </tr>\n",
       "  </tbody>\n",
       "</table>\n",
       "<p>1000 rows × 2 columns</p>\n",
       "</div>"
      ],
      "text/plain": [
       "     TotalUSDPrize  values\n",
       "0       1822989.41       0\n",
       "1       1799288.57       0\n",
       "2       1787489.88       0\n",
       "3       1652350.75       0\n",
       "4       1416448.64       0\n",
       "..             ...     ...\n",
       "995       50734.44       0\n",
       "996       50449.60       0\n",
       "997       49300.00       0\n",
       "998       48550.00       0\n",
       "999       47973.61       0\n",
       "\n",
       "[1000 rows x 2 columns]"
      ]
     },
     "execution_count": 87,
     "metadata": {},
     "output_type": "execute_result"
    }
   ],
   "source": [
    "df_extract = df[['TotalUSDPrize', 'values']]\n",
    "df_extract"
   ]
  },
  {
   "cell_type": "code",
   "execution_count": 88,
   "id": "0d2e6c36",
   "metadata": {},
   "outputs": [
    {
     "name": "stdout",
     "output_type": "stream",
     "text": [
      "Original dataset shape Counter({0: 120, 1: 80})\n",
      "Resampled dataset shape Counter({1: 120, 0: 120})\n"
     ]
    }
   ],
   "source": [
    "X=df_extract\n",
    "y=\"values\"\n",
    "X, y = make_classification(n_classes=2, class_sep=1.0,\n",
    "weights=[0.6, 0.4], n_informative=2, n_redundant=0, flip_y=0.06,\n",
    "n_features=2, n_clusters_per_class=1, n_samples=200, random_state=1)\n",
    "\n",
    "print('Original dataset shape %s' % Counter(y))\n",
    "\n",
    "# Original dataset shape Counter({0: 120, 1: 80})\n",
    "sm = SMOTE(random_state= 42)\n",
    "X_res, y_res = sm.fit_resample(X, y)\n",
    "\n",
    "print('Resampled dataset shape %s' % Counter(y_res))\n",
    "# Resampled dataset shape Counter({1: 120, 0: 120})"
   ]
  },
  {
   "cell_type": "code",
   "execution_count": 93,
   "id": "d0a94895",
   "metadata": {},
   "outputs": [
    {
     "data": {
      "text/plain": [
       "<matplotlib.collections.PathCollection at 0x2485a2fa040>"
      ]
     },
     "execution_count": 93,
     "metadata": {},
     "output_type": "execute_result"
    },
    {
     "data": {
      "image/png": "[encoded data removed]",
      "text/plain": [
       "<Figure size 432x432 with 1 Axes>"
      ]
     },
     "metadata": {
      "needs_background": "light"
     },
     "output_type": "display_data"
    }
   ],
   "source": [
    "_, ax = plt.subplots(figsize=(6, 6))\n",
    "ax.scatter(X[:, 0], X[:, 1], c=y, alpha=0.8, edgecolor=\"k\", s=50, marker='o')\n"
   ]
  },
  {
   "cell_type": "markdown",
   "id": "b68f3c42",
   "metadata": {},
   "source": [
    "## Nivell 3. Exercici 3\n",
    "### Continua amb el conjunt de dades de tema esportiu i genera una mostra utilitzant el mètode Reservoir sampling."
   ]
  },
  {
   "cell_type": "code",
   "execution_count": 97,
   "id": "92923a44",
   "metadata": {},
   "outputs": [
    {
     "data": {
      "text/html": [
       "<div>\n",
       "<style scoped>\n",
       "    .dataframe tbody tr th:only-of-type {\n",
       "        vertical-align: middle;\n",
       "    }\n",
       "\n",
       "    .dataframe tbody tr th {\n",
       "        vertical-align: top;\n",
       "    }\n",
       "\n",
       "    .dataframe thead th {\n",
       "        text-align: right;\n",
       "    }\n",
       "</style>\n",
       "<table border=\"1\" class=\"dataframe\">\n",
       "  <thead>\n",
       "    <tr style=\"text-align: right;\">\n",
       "      <th></th>\n",
       "      <th>PlayerId</th>\n",
       "      <th>NameFirst</th>\n",
       "      <th>NameLast</th>\n",
       "      <th>CurrentHandle</th>\n",
       "      <th>CountryCode</th>\n",
       "      <th>TotalUSDPrize</th>\n",
       "      <th>Game</th>\n",
       "      <th>Genre</th>\n",
       "    </tr>\n",
       "  </thead>\n",
       "  <tbody>\n",
       "    <tr>\n",
       "      <th>0</th>\n",
       "      <td>3883</td>\n",
       "      <td>Peter</td>\n",
       "      <td>Rasmussen</td>\n",
       "      <td>dupreeh</td>\n",
       "      <td>dk</td>\n",
       "      <td>1822989.41</td>\n",
       "      <td>Counter-Strike: Global Offensive</td>\n",
       "      <td>First-Person Shooter</td>\n",
       "    </tr>\n",
       "    <tr>\n",
       "      <th>1</th>\n",
       "      <td>3679</td>\n",
       "      <td>Andreas</td>\n",
       "      <td>Højsleth</td>\n",
       "      <td>Xyp9x</td>\n",
       "      <td>dk</td>\n",
       "      <td>1799288.57</td>\n",
       "      <td>Counter-Strike: Global Offensive</td>\n",
       "      <td>First-Person Shooter</td>\n",
       "    </tr>\n",
       "    <tr>\n",
       "      <th>2</th>\n",
       "      <td>3885</td>\n",
       "      <td>Nicolai</td>\n",
       "      <td>Reedtz</td>\n",
       "      <td>dev1ce</td>\n",
       "      <td>dk</td>\n",
       "      <td>1787489.88</td>\n",
       "      <td>Counter-Strike: Global Offensive</td>\n",
       "      <td>First-Person Shooter</td>\n",
       "    </tr>\n",
       "    <tr>\n",
       "      <th>3</th>\n",
       "      <td>3672</td>\n",
       "      <td>Lukas</td>\n",
       "      <td>Rossander</td>\n",
       "      <td>gla1ve</td>\n",
       "      <td>dk</td>\n",
       "      <td>1652350.75</td>\n",
       "      <td>Counter-Strike: Global Offensive</td>\n",
       "      <td>First-Person Shooter</td>\n",
       "    </tr>\n",
       "    <tr>\n",
       "      <th>4</th>\n",
       "      <td>17800</td>\n",
       "      <td>Emil</td>\n",
       "      <td>Reif</td>\n",
       "      <td>Magisk</td>\n",
       "      <td>dk</td>\n",
       "      <td>1416448.64</td>\n",
       "      <td>Counter-Strike: Global Offensive</td>\n",
       "      <td>First-Person Shooter</td>\n",
       "    </tr>\n",
       "  </tbody>\n",
       "</table>\n",
       "</div>"
      ],
      "text/plain": [
       "   PlayerId NameFirst   NameLast CurrentHandle CountryCode  TotalUSDPrize  \\\n",
       "0      3883     Peter  Rasmussen       dupreeh          dk     1822989.41   \n",
       "1      3679   Andreas   Højsleth         Xyp9x          dk     1799288.57   \n",
       "2      3885   Nicolai     Reedtz        dev1ce          dk     1787489.88   \n",
       "3      3672     Lukas  Rossander        gla1ve          dk     1652350.75   \n",
       "4     17800      Emil       Reif        Magisk          dk     1416448.64   \n",
       "\n",
       "                               Game                 Genre  \n",
       "0  Counter-Strike: Global Offensive  First-Person Shooter  \n",
       "1  Counter-Strike: Global Offensive  First-Person Shooter  \n",
       "2  Counter-Strike: Global Offensive  First-Person Shooter  \n",
       "3  Counter-Strike: Global Offensive  First-Person Shooter  \n",
       "4  Counter-Strike: Global Offensive  First-Person Shooter  "
      ]
     },
     "execution_count": 97,
     "metadata": {},
     "output_type": "execute_result"
    }
   ],
   "source": [
    "df.head()"
   ]
  },
  {
   "cell_type": "code",
   "execution_count": 98,
   "id": "b8c421a1",
   "metadata": {},
   "outputs": [],
   "source": [
    "# Reservoir sampling\n",
    "\n",
    "stream = df.index\n",
    "# Doing Reservoir Sampling from the stream\n",
    "k=100\n",
    "reservoir = []\n",
    "for i, element in enumerate(stream):\n",
    "    if i+1<= k:\n",
    "        reservoir.append(element)\n",
    "    else:\n",
    "        probability = k/(i+1)\n",
    "        if random.random() < probability:\n",
    "            # Select item in stream and remove one of the k items already selected\n",
    "             reservoir[random.choice(range(0,k))] = element"
   ]
  },
  {
   "cell_type": "code",
   "execution_count": 101,
   "id": "f95d4ffc",
   "metadata": {},
   "outputs": [
    {
     "data": {
      "text/plain": [
       "[428,\n",
       " 131,\n",
       " 103,\n",
       " 137,\n",
       " 520,\n",
       " 219,\n",
       " 6,\n",
       " 795,\n",
       " 266,\n",
       " 215,\n",
       " 10,\n",
       " 840,\n",
       " 385,\n",
       " 648,\n",
       " 793,\n",
       " 642,\n",
       " 876,\n",
       " 154,\n",
       " 270,\n",
       " 517,\n",
       " 20,\n",
       " 305,\n",
       " 964,\n",
       " 189,\n",
       " 660,\n",
       " 940,\n",
       " 426,\n",
       " 447,\n",
       " 853,\n",
       " 29,\n",
       " 30,\n",
       " 233,\n",
       " 163,\n",
       " 835,\n",
       " 275,\n",
       " 617,\n",
       " 573,\n",
       " 177,\n",
       " 826,\n",
       " 842,\n",
       " 525,\n",
       " 687,\n",
       " 523,\n",
       " 802,\n",
       " 599,\n",
       " 764,\n",
       " 204,\n",
       " 232,\n",
       " 48,\n",
       " 543,\n",
       " 907,\n",
       " 119,\n",
       " 623,\n",
       " 311,\n",
       " 783,\n",
       " 480,\n",
       " 949,\n",
       " 843,\n",
       " 942,\n",
       " 558,\n",
       " 60,\n",
       " 769,\n",
       " 563,\n",
       " 601,\n",
       " 867,\n",
       " 466,\n",
       " 668,\n",
       " 925,\n",
       " 604,\n",
       " 434,\n",
       " 677,\n",
       " 495,\n",
       " 170,\n",
       " 274,\n",
       " 877,\n",
       " 510,\n",
       " 644,\n",
       " 776,\n",
       " 974,\n",
       " 596,\n",
       " 917,\n",
       " 803,\n",
       " 148,\n",
       " 367,\n",
       " 559,\n",
       " 248,\n",
       " 605,\n",
       " 824,\n",
       " 970,\n",
       " 898,\n",
       " 606,\n",
       " 439,\n",
       " 280,\n",
       " 113,\n",
       " 749,\n",
       " 95,\n",
       " 702,\n",
       " 620,\n",
       " 484,\n",
       " 366]"
      ]
     },
     "execution_count": 101,
     "metadata": {},
     "output_type": "execute_result"
    }
   ],
   "source": [
    "reservoir"
   ]
  },
  {
   "cell_type": "code",
   "execution_count": 102,
   "id": "b2e0cfc3",
   "metadata": {},
   "outputs": [
    {
     "data": {
      "text/plain": [
       "100"
      ]
     },
     "execution_count": 102,
     "metadata": {},
     "output_type": "execute_result"
    }
   ],
   "source": [
    "len(reservoir)"
   ]
  },
  {
   "cell_type": "code",
   "execution_count": 103,
   "id": "54ebc1ff",
   "metadata": {},
   "outputs": [
    {
     "name": "stdout",
     "output_type": "stream",
     "text": [
      "6 974\n"
     ]
    }
   ],
   "source": [
    "a = min(reservoir)\n",
    "b = max(reservoir)\n",
    "print(a, b)"
   ]
  },
  {
   "cell_type": "code",
   "execution_count": 104,
   "id": "f2ed596d",
   "metadata": {},
   "outputs": [
    {
     "data": {
      "text/html": [
       "<div>\n",
       "<style scoped>\n",
       "    .dataframe tbody tr th:only-of-type {\n",
       "        vertical-align: middle;\n",
       "    }\n",
       "\n",
       "    .dataframe tbody tr th {\n",
       "        vertical-align: top;\n",
       "    }\n",
       "\n",
       "    .dataframe thead th {\n",
       "        text-align: right;\n",
       "    }\n",
       "</style>\n",
       "<table border=\"1\" class=\"dataframe\">\n",
       "  <thead>\n",
       "    <tr style=\"text-align: right;\">\n",
       "      <th></th>\n",
       "      <th>PlayerId</th>\n",
       "      <th>NameFirst</th>\n",
       "      <th>NameLast</th>\n",
       "      <th>CurrentHandle</th>\n",
       "      <th>CountryCode</th>\n",
       "      <th>TotalUSDPrize</th>\n",
       "      <th>Game</th>\n",
       "      <th>Genre</th>\n",
       "    </tr>\n",
       "  </thead>\n",
       "  <tbody>\n",
       "    <tr>\n",
       "      <th>6</th>\n",
       "      <td>12183</td>\n",
       "      <td>Epitácio</td>\n",
       "      <td>de Melo</td>\n",
       "      <td>TACO</td>\n",
       "      <td>br</td>\n",
       "      <td>1063858.27</td>\n",
       "      <td>Counter-Strike: Global Offensive</td>\n",
       "      <td>First-Person Shooter</td>\n",
       "    </tr>\n",
       "    <tr>\n",
       "      <th>10</th>\n",
       "      <td>10629</td>\n",
       "      <td>Keith</td>\n",
       "      <td>Markovic</td>\n",
       "      <td>NAF</td>\n",
       "      <td>ca</td>\n",
       "      <td>982765.66</td>\n",
       "      <td>Counter-Strike: Global Offensive</td>\n",
       "      <td>First-Person Shooter</td>\n",
       "    </tr>\n",
       "    <tr>\n",
       "      <th>20</th>\n",
       "      <td>3290</td>\n",
       "      <td>Nathan</td>\n",
       "      <td>Schmitt</td>\n",
       "      <td>NBK</td>\n",
       "      <td>fr</td>\n",
       "      <td>805444.66</td>\n",
       "      <td>Counter-Strike: Global Offensive</td>\n",
       "      <td>First-Person Shooter</td>\n",
       "    </tr>\n",
       "    <tr>\n",
       "      <th>29</th>\n",
       "      <td>3881</td>\n",
       "      <td>Richard</td>\n",
       "      <td>Papillon</td>\n",
       "      <td>shox</td>\n",
       "      <td>fr</td>\n",
       "      <td>660640.55</td>\n",
       "      <td>Counter-Strike: Global Offensive</td>\n",
       "      <td>First-Person Shooter</td>\n",
       "    </tr>\n",
       "    <tr>\n",
       "      <th>30</th>\n",
       "      <td>4998</td>\n",
       "      <td>Janusz</td>\n",
       "      <td>Pogorzelski</td>\n",
       "      <td>snax</td>\n",
       "      <td>pl</td>\n",
       "      <td>653938.44</td>\n",
       "      <td>Counter-Strike: Global Offensive</td>\n",
       "      <td>First-Person Shooter</td>\n",
       "    </tr>\n",
       "  </tbody>\n",
       "</table>\n",
       "</div>"
      ],
      "text/plain": [
       "    PlayerId NameFirst     NameLast CurrentHandle CountryCode  TotalUSDPrize  \\\n",
       "6      12183  Epitácio      de Melo          TACO          br     1063858.27   \n",
       "10     10629     Keith     Markovic           NAF          ca      982765.66   \n",
       "20      3290    Nathan      Schmitt           NBK          fr      805444.66   \n",
       "29      3881   Richard     Papillon          shox          fr      660640.55   \n",
       "30      4998    Janusz  Pogorzelski          snax          pl      653938.44   \n",
       "\n",
       "                                Game                 Genre  \n",
       "6   Counter-Strike: Global Offensive  First-Person Shooter  \n",
       "10  Counter-Strike: Global Offensive  First-Person Shooter  \n",
       "20  Counter-Strike: Global Offensive  First-Person Shooter  \n",
       "29  Counter-Strike: Global Offensive  First-Person Shooter  \n",
       "30  Counter-Strike: Global Offensive  First-Person Shooter  "
      ]
     },
     "execution_count": 104,
     "metadata": {},
     "output_type": "execute_result"
    }
   ],
   "source": [
    "reservoir_sample = df[df.index.isin(reservoir)]\n",
    "reservoir_sample.head()"
   ]
  },
  {
   "cell_type": "code",
   "execution_count": 105,
   "id": "0dfa7bbd",
   "metadata": {},
   "outputs": [
    {
     "data": {
      "text/plain": [
       "count                                 100\n",
       "unique                                  5\n",
       "top       Multiplayer Online Battle Arena\n",
       "freq                                   49\n",
       "Name: Genre, dtype: object"
      ]
     },
     "execution_count": 105,
     "metadata": {},
     "output_type": "execute_result"
    }
   ],
   "source": [
    "reservoir_sample.Genre.describe()"
   ]
  },
  {
   "cell_type": "code",
   "execution_count": 106,
   "id": "8b9dcbb3",
   "metadata": {},
   "outputs": [
    {
     "data": {
      "text/plain": [
       "424298.031"
      ]
     },
     "execution_count": 106,
     "metadata": {},
     "output_type": "execute_result"
    }
   ],
   "source": [
    "reservoir_sample_mean= round(reservoir_sample[\"TotalUSDPrize\"].mean(),3)\n",
    "reservoir_sample_mean"
   ]
  },
  {
   "cell_type": "code",
   "execution_count": 107,
   "id": "80d0087b",
   "metadata": {},
   "outputs": [
    {
     "data": {
      "text/plain": [
       "<seaborn.axisgrid.FacetGrid at 0x2485a130fa0>"
      ]
     },
     "execution_count": 107,
     "metadata": {},
     "output_type": "execute_result"
    },
    {
     "data": {
      "image/png": "[encoded data removed]",
      "text/plain": [
       "<Figure size 464.625x360 with 1 Axes>"
      ]
     },
     "metadata": {
      "needs_background": "light"
     },
     "output_type": "display_data"
    }
   ],
   "source": [
    "sns.displot(reservoir_sample,kde=True,bins=50)"
   ]
  },
  {
   "cell_type": "code",
   "execution_count": 108,
   "id": "cdd92e45",
   "metadata": {},
   "outputs": [
    {
     "name": "stdout",
     "output_type": "stream",
     "text": [
      "A USD Prize in the real DataFrame is:  397793.216\n",
      "A USD Prize with Simple random sample:  332280.322\n",
      "A USD Prize with sistemating sampling is 431946.415\n",
      "A USD Prize with stratified sampling is 349634.915\n",
      "A USD Prize with reservoir sampling is 424298.031\n"
     ]
    }
   ],
   "source": [
    "# Finally, the comparison between the differente samples are:\n",
    "print(\"A USD Prize in the real DataFrame is: \", real_mean)\n",
    "print('A USD Prize with Simple random sample: ', simple_random_mean)\n",
    "print('A USD Prize with sistemating sampling is', systematic_sample_mean)\n",
    "print('A USD Prize with stratified sampling is', stratified_sample_mean)\n",
    "print('A USD Prize with reservoir sampling is', reservoir_sample_mean)"
   ]
  }
 ],
 "metadata": {
  "kernelspec": {
   "display_name": "Python 3",
   "language": "python",
   "name": "python3"
  },
  "language_info": {
   "codemirror_mode": {
    "name": "ipython",
    "version": 3
   },
   "file_extension": ".py",
   "mimetype": "text/x-python",
   "name": "python",
   "nbconvert_exporter": "python",
   "pygments_lexer": "ipython3",
   "version": "3.8.8"
  },
  "latex_envs": {
   "LaTeX_envs_menu_present": true,
   "autoclose": false,
   "autocomplete": true,
   "bibliofile": "biblio.bib",
   "cite_by": "apalike",
   "current_citInitial": 1,
   "eqLabelWithNumbers": true,
   "eqNumInitial": 1,
   "hotkeys": {
    "equation": "Ctrl-E",
    "itemize": "Ctrl-I"
   },
   "labels_anchors": false,
   "latex_user_defs": false,
   "report_style_numbering": false,
   "user_envs_cfg": false
  }
 },
 "nbformat": 4,
 "nbformat_minor": 5
}
